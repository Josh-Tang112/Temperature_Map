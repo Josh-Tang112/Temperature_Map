{
  "cells": [
    {
      "cell_type": "markdown",
      "metadata": {
        "id": "view-in-github",
        "colab_type": "text"
      },
      "source": [
        "<a href=\"https://colab.research.google.com/github/Josh-Tang112/Temperature_Map/blob/main/Temperature_Map.ipynb\" target=\"_parent\"><img src=\"https://colab.research.google.com/assets/colab-badge.svg\" alt=\"Open In Colab\"/></a>"
      ]
    },
    {
      "cell_type": "code",
      "source": [
        "!pip install ipyleaflet\n",
        "!jupyter nbextension enable --py --sys-prefix ipyleaflet"
      ],
      "metadata": {
        "id": "O4lIeiyTx-QU",
        "outputId": "737bc934-9f3c-4bc5-8956-0428efc43e5a",
        "colab": {
          "base_uri": "https://localhost:8080/"
        },
        "collapsed": true
      },
      "execution_count": 1,
      "outputs": [
        {
          "output_type": "stream",
          "name": "stdout",
          "text": [
            "Looking in indexes: https://pypi.org/simple, https://us-python.pkg.dev/colab-wheels/public/simple/\n",
            "Collecting ipyleaflet\n",
            "  Downloading ipyleaflet-0.17.3-py3-none-any.whl (3.4 MB)\n",
            "\u001b[2K     \u001b[90m━━━━━━━━━━━━━━━━━━━━━━━━━━━━━━━━━━━━━━━━\u001b[0m \u001b[32m3.4/3.4 MB\u001b[0m \u001b[31m29.4 MB/s\u001b[0m eta \u001b[36m0:00:00\u001b[0m\n",
            "\u001b[?25hRequirement already satisfied: ipywidgets<9,>=7.6.0 in /usr/local/lib/python3.10/dist-packages (from ipyleaflet) (7.7.1)\n",
            "Collecting traittypes<3,>=0.2.1 (from ipyleaflet)\n",
            "  Downloading traittypes-0.2.1-py2.py3-none-any.whl (8.6 kB)\n",
            "Collecting xyzservices>=2021.8.1 (from ipyleaflet)\n",
            "  Downloading xyzservices-2023.5.0-py3-none-any.whl (56 kB)\n",
            "\u001b[2K     \u001b[90m━━━━━━━━━━━━━━━━━━━━━━━━━━━━━━━━━━━━━━━━\u001b[0m \u001b[32m56.5/56.5 kB\u001b[0m \u001b[31m5.3 MB/s\u001b[0m eta \u001b[36m0:00:00\u001b[0m\n",
            "\u001b[?25hRequirement already satisfied: branca>=0.5.0 in /usr/local/lib/python3.10/dist-packages (from ipyleaflet) (0.6.0)\n",
            "Requirement already satisfied: jinja2 in /usr/local/lib/python3.10/dist-packages (from branca>=0.5.0->ipyleaflet) (3.1.2)\n",
            "Requirement already satisfied: ipykernel>=4.5.1 in /usr/local/lib/python3.10/dist-packages (from ipywidgets<9,>=7.6.0->ipyleaflet) (5.5.6)\n",
            "Requirement already satisfied: ipython-genutils~=0.2.0 in /usr/local/lib/python3.10/dist-packages (from ipywidgets<9,>=7.6.0->ipyleaflet) (0.2.0)\n",
            "Requirement already satisfied: traitlets>=4.3.1 in /usr/local/lib/python3.10/dist-packages (from ipywidgets<9,>=7.6.0->ipyleaflet) (5.7.1)\n",
            "Requirement already satisfied: widgetsnbextension~=3.6.0 in /usr/local/lib/python3.10/dist-packages (from ipywidgets<9,>=7.6.0->ipyleaflet) (3.6.4)\n",
            "Requirement already satisfied: ipython>=4.0.0 in /usr/local/lib/python3.10/dist-packages (from ipywidgets<9,>=7.6.0->ipyleaflet) (7.34.0)\n",
            "Requirement already satisfied: jupyterlab-widgets>=1.0.0 in /usr/local/lib/python3.10/dist-packages (from ipywidgets<9,>=7.6.0->ipyleaflet) (3.0.7)\n",
            "Requirement already satisfied: jupyter-client in /usr/local/lib/python3.10/dist-packages (from ipykernel>=4.5.1->ipywidgets<9,>=7.6.0->ipyleaflet) (6.1.12)\n",
            "Requirement already satisfied: tornado>=4.2 in /usr/local/lib/python3.10/dist-packages (from ipykernel>=4.5.1->ipywidgets<9,>=7.6.0->ipyleaflet) (6.3.1)\n",
            "Requirement already satisfied: setuptools>=18.5 in /usr/local/lib/python3.10/dist-packages (from ipython>=4.0.0->ipywidgets<9,>=7.6.0->ipyleaflet) (67.7.2)\n",
            "Collecting jedi>=0.16 (from ipython>=4.0.0->ipywidgets<9,>=7.6.0->ipyleaflet)\n",
            "  Downloading jedi-0.18.2-py2.py3-none-any.whl (1.6 MB)\n",
            "\u001b[2K     \u001b[90m━━━━━━━━━━━━━━━━━━━━━━━━━━━━━━━━━━━━━━━━\u001b[0m \u001b[32m1.6/1.6 MB\u001b[0m \u001b[31m55.9 MB/s\u001b[0m eta \u001b[36m0:00:00\u001b[0m\n",
            "\u001b[?25hRequirement already satisfied: decorator in /usr/local/lib/python3.10/dist-packages (from ipython>=4.0.0->ipywidgets<9,>=7.6.0->ipyleaflet) (4.4.2)\n",
            "Requirement already satisfied: pickleshare in /usr/local/lib/python3.10/dist-packages (from ipython>=4.0.0->ipywidgets<9,>=7.6.0->ipyleaflet) (0.7.5)\n",
            "Requirement already satisfied: prompt-toolkit!=3.0.0,!=3.0.1,<3.1.0,>=2.0.0 in /usr/local/lib/python3.10/dist-packages (from ipython>=4.0.0->ipywidgets<9,>=7.6.0->ipyleaflet) (3.0.38)\n",
            "Requirement already satisfied: pygments in /usr/local/lib/python3.10/dist-packages (from ipython>=4.0.0->ipywidgets<9,>=7.6.0->ipyleaflet) (2.14.0)\n",
            "Requirement already satisfied: backcall in /usr/local/lib/python3.10/dist-packages (from ipython>=4.0.0->ipywidgets<9,>=7.6.0->ipyleaflet) (0.2.0)\n",
            "Requirement already satisfied: matplotlib-inline in /usr/local/lib/python3.10/dist-packages (from ipython>=4.0.0->ipywidgets<9,>=7.6.0->ipyleaflet) (0.1.6)\n",
            "Requirement already satisfied: pexpect>4.3 in /usr/local/lib/python3.10/dist-packages (from ipython>=4.0.0->ipywidgets<9,>=7.6.0->ipyleaflet) (4.8.0)\n",
            "Requirement already satisfied: notebook>=4.4.1 in /usr/local/lib/python3.10/dist-packages (from widgetsnbextension~=3.6.0->ipywidgets<9,>=7.6.0->ipyleaflet) (6.4.8)\n",
            "Requirement already satisfied: MarkupSafe>=2.0 in /usr/local/lib/python3.10/dist-packages (from jinja2->branca>=0.5.0->ipyleaflet) (2.1.2)\n",
            "Requirement already satisfied: parso<0.9.0,>=0.8.0 in /usr/local/lib/python3.10/dist-packages (from jedi>=0.16->ipython>=4.0.0->ipywidgets<9,>=7.6.0->ipyleaflet) (0.8.3)\n",
            "Requirement already satisfied: pyzmq>=17 in /usr/local/lib/python3.10/dist-packages (from notebook>=4.4.1->widgetsnbextension~=3.6.0->ipywidgets<9,>=7.6.0->ipyleaflet) (23.2.1)\n",
            "Requirement already satisfied: argon2-cffi in /usr/local/lib/python3.10/dist-packages (from notebook>=4.4.1->widgetsnbextension~=3.6.0->ipywidgets<9,>=7.6.0->ipyleaflet) (21.3.0)\n",
            "Requirement already satisfied: jupyter-core>=4.6.1 in /usr/local/lib/python3.10/dist-packages (from notebook>=4.4.1->widgetsnbextension~=3.6.0->ipywidgets<9,>=7.6.0->ipyleaflet) (5.3.0)\n",
            "Requirement already satisfied: nbformat in /usr/local/lib/python3.10/dist-packages (from notebook>=4.4.1->widgetsnbextension~=3.6.0->ipywidgets<9,>=7.6.0->ipyleaflet) (5.8.0)\n",
            "Requirement already satisfied: nbconvert in /usr/local/lib/python3.10/dist-packages (from notebook>=4.4.1->widgetsnbextension~=3.6.0->ipywidgets<9,>=7.6.0->ipyleaflet) (6.5.4)\n",
            "Requirement already satisfied: nest-asyncio>=1.5 in /usr/local/lib/python3.10/dist-packages (from notebook>=4.4.1->widgetsnbextension~=3.6.0->ipywidgets<9,>=7.6.0->ipyleaflet) (1.5.6)\n",
            "Requirement already satisfied: Send2Trash>=1.8.0 in /usr/local/lib/python3.10/dist-packages (from notebook>=4.4.1->widgetsnbextension~=3.6.0->ipywidgets<9,>=7.6.0->ipyleaflet) (1.8.0)\n",
            "Requirement already satisfied: terminado>=0.8.3 in /usr/local/lib/python3.10/dist-packages (from notebook>=4.4.1->widgetsnbextension~=3.6.0->ipywidgets<9,>=7.6.0->ipyleaflet) (0.17.1)\n",
            "Requirement already satisfied: prometheus-client in /usr/local/lib/python3.10/dist-packages (from notebook>=4.4.1->widgetsnbextension~=3.6.0->ipywidgets<9,>=7.6.0->ipyleaflet) (0.16.0)\n",
            "Requirement already satisfied: python-dateutil>=2.1 in /usr/local/lib/python3.10/dist-packages (from jupyter-client->ipykernel>=4.5.1->ipywidgets<9,>=7.6.0->ipyleaflet) (2.8.2)\n",
            "Requirement already satisfied: ptyprocess>=0.5 in /usr/local/lib/python3.10/dist-packages (from pexpect>4.3->ipython>=4.0.0->ipywidgets<9,>=7.6.0->ipyleaflet) (0.7.0)\n",
            "Requirement already satisfied: wcwidth in /usr/local/lib/python3.10/dist-packages (from prompt-toolkit!=3.0.0,!=3.0.1,<3.1.0,>=2.0.0->ipython>=4.0.0->ipywidgets<9,>=7.6.0->ipyleaflet) (0.2.6)\n",
            "Requirement already satisfied: platformdirs>=2.5 in /usr/local/lib/python3.10/dist-packages (from jupyter-core>=4.6.1->notebook>=4.4.1->widgetsnbextension~=3.6.0->ipywidgets<9,>=7.6.0->ipyleaflet) (3.3.0)\n",
            "Requirement already satisfied: six>=1.5 in /usr/local/lib/python3.10/dist-packages (from python-dateutil>=2.1->jupyter-client->ipykernel>=4.5.1->ipywidgets<9,>=7.6.0->ipyleaflet) (1.16.0)\n",
            "Requirement already satisfied: argon2-cffi-bindings in /usr/local/lib/python3.10/dist-packages (from argon2-cffi->notebook>=4.4.1->widgetsnbextension~=3.6.0->ipywidgets<9,>=7.6.0->ipyleaflet) (21.2.0)\n",
            "Requirement already satisfied: lxml in /usr/local/lib/python3.10/dist-packages (from nbconvert->notebook>=4.4.1->widgetsnbextension~=3.6.0->ipywidgets<9,>=7.6.0->ipyleaflet) (4.9.2)\n",
            "Requirement already satisfied: beautifulsoup4 in /usr/local/lib/python3.10/dist-packages (from nbconvert->notebook>=4.4.1->widgetsnbextension~=3.6.0->ipywidgets<9,>=7.6.0->ipyleaflet) (4.11.2)\n",
            "Requirement already satisfied: bleach in /usr/local/lib/python3.10/dist-packages (from nbconvert->notebook>=4.4.1->widgetsnbextension~=3.6.0->ipywidgets<9,>=7.6.0->ipyleaflet) (6.0.0)\n",
            "Requirement already satisfied: defusedxml in /usr/local/lib/python3.10/dist-packages (from nbconvert->notebook>=4.4.1->widgetsnbextension~=3.6.0->ipywidgets<9,>=7.6.0->ipyleaflet) (0.7.1)\n",
            "Requirement already satisfied: entrypoints>=0.2.2 in /usr/local/lib/python3.10/dist-packages (from nbconvert->notebook>=4.4.1->widgetsnbextension~=3.6.0->ipywidgets<9,>=7.6.0->ipyleaflet) (0.4)\n",
            "Requirement already satisfied: jupyterlab-pygments in /usr/local/lib/python3.10/dist-packages (from nbconvert->notebook>=4.4.1->widgetsnbextension~=3.6.0->ipywidgets<9,>=7.6.0->ipyleaflet) (0.2.2)\n",
            "Requirement already satisfied: mistune<2,>=0.8.1 in /usr/local/lib/python3.10/dist-packages (from nbconvert->notebook>=4.4.1->widgetsnbextension~=3.6.0->ipywidgets<9,>=7.6.0->ipyleaflet) (0.8.4)\n",
            "Requirement already satisfied: nbclient>=0.5.0 in /usr/local/lib/python3.10/dist-packages (from nbconvert->notebook>=4.4.1->widgetsnbextension~=3.6.0->ipywidgets<9,>=7.6.0->ipyleaflet) (0.7.4)\n",
            "Requirement already satisfied: packaging in /usr/local/lib/python3.10/dist-packages (from nbconvert->notebook>=4.4.1->widgetsnbextension~=3.6.0->ipywidgets<9,>=7.6.0->ipyleaflet) (23.1)\n",
            "Requirement already satisfied: pandocfilters>=1.4.1 in /usr/local/lib/python3.10/dist-packages (from nbconvert->notebook>=4.4.1->widgetsnbextension~=3.6.0->ipywidgets<9,>=7.6.0->ipyleaflet) (1.5.0)\n",
            "Requirement already satisfied: tinycss2 in /usr/local/lib/python3.10/dist-packages (from nbconvert->notebook>=4.4.1->widgetsnbextension~=3.6.0->ipywidgets<9,>=7.6.0->ipyleaflet) (1.2.1)\n",
            "Requirement already satisfied: fastjsonschema in /usr/local/lib/python3.10/dist-packages (from nbformat->notebook>=4.4.1->widgetsnbextension~=3.6.0->ipywidgets<9,>=7.6.0->ipyleaflet) (2.16.3)\n",
            "Requirement already satisfied: jsonschema>=2.6 in /usr/local/lib/python3.10/dist-packages (from nbformat->notebook>=4.4.1->widgetsnbextension~=3.6.0->ipywidgets<9,>=7.6.0->ipyleaflet) (4.3.3)\n",
            "Requirement already satisfied: attrs>=17.4.0 in /usr/local/lib/python3.10/dist-packages (from jsonschema>=2.6->nbformat->notebook>=4.4.1->widgetsnbextension~=3.6.0->ipywidgets<9,>=7.6.0->ipyleaflet) (23.1.0)\n",
            "Requirement already satisfied: pyrsistent!=0.17.0,!=0.17.1,!=0.17.2,>=0.14.0 in /usr/local/lib/python3.10/dist-packages (from jsonschema>=2.6->nbformat->notebook>=4.4.1->widgetsnbextension~=3.6.0->ipywidgets<9,>=7.6.0->ipyleaflet) (0.19.3)\n",
            "Requirement already satisfied: cffi>=1.0.1 in /usr/local/lib/python3.10/dist-packages (from argon2-cffi-bindings->argon2-cffi->notebook>=4.4.1->widgetsnbextension~=3.6.0->ipywidgets<9,>=7.6.0->ipyleaflet) (1.15.1)\n",
            "Requirement already satisfied: soupsieve>1.2 in /usr/local/lib/python3.10/dist-packages (from beautifulsoup4->nbconvert->notebook>=4.4.1->widgetsnbextension~=3.6.0->ipywidgets<9,>=7.6.0->ipyleaflet) (2.4.1)\n",
            "Requirement already satisfied: webencodings in /usr/local/lib/python3.10/dist-packages (from bleach->nbconvert->notebook>=4.4.1->widgetsnbextension~=3.6.0->ipywidgets<9,>=7.6.0->ipyleaflet) (0.5.1)\n",
            "Requirement already satisfied: pycparser in /usr/local/lib/python3.10/dist-packages (from cffi>=1.0.1->argon2-cffi-bindings->argon2-cffi->notebook>=4.4.1->widgetsnbextension~=3.6.0->ipywidgets<9,>=7.6.0->ipyleaflet) (2.21)\n",
            "Installing collected packages: xyzservices, traittypes, jedi, ipyleaflet\n",
            "Successfully installed ipyleaflet-0.17.3 jedi-0.18.2 traittypes-0.2.1 xyzservices-2023.5.0\n",
            "Enabling notebook extension jupyter-leaflet/extension...\n",
            "Paths used for configuration of notebook: \n",
            "    \t/usr/etc/jupyter/nbconfig/notebook.json\n",
            "Paths used for configuration of notebook: \n",
            "    \t\n",
            "      - Validating: \u001b[32mOK\u001b[0m\n",
            "Paths used for configuration of notebook: \n",
            "    \t/usr/etc/jupyter/nbconfig/notebook.json\n"
          ]
        }
      ]
    },
    {
      "cell_type": "code",
      "source": [
        "from ipywidgets import HTML\n",
        "from ipyleaflet import Map, Marker, Popup, basemaps\n",
        "import requests\n",
        "from io import BytesIO, StringIO\n",
        "import gzip\n",
        "import pandas as pd\n",
        "import numpy as np\n",
        "import matplotlib.pyplot as plt\n",
        "import re\n",
        "import math\n",
        "import base64"
      ],
      "metadata": {
        "id": "gisOy6ylvrWm"
      },
      "execution_count": 23,
      "outputs": []
    },
    {
      "cell_type": "code",
      "source": [
        "# get necessary metadata\n",
        "url = 'https://www.ncei.noaa.gov/pub/data/ghcn/daily/ghcnd-stations.txt'\n",
        "r = requests.get(url)\n",
        "stations = r.content.decode('utf-8').split('\\n')\n",
        "stations = stations[:-1]\n",
        "stations[:2]"
      ],
      "metadata": {
        "id": "xfr2pDTTvx9P",
        "outputId": "3194945a-2851-4f54-fa42-1c40f042a453",
        "colab": {
          "base_uri": "https://localhost:8080/"
        }
      },
      "execution_count": 20,
      "outputs": [
        {
          "output_type": "execute_result",
          "data": {
            "text/plain": [
              "['ACW00011604  17.1167  -61.7833   10.1    ST JOHNS COOLIDGE FLD                       ',\n",
              " 'ACW00011647  17.1333  -61.7833   19.2    ST JOHNS                                    ']"
            ]
          },
          "metadata": {},
          "execution_count": 20
        }
      ]
    },
    {
      "cell_type": "code",
      "source": [
        "# find the name of the closest station\n",
        "def get_station_name(lat,lng):\n",
        "    min_name = ''\n",
        "    min_distance = -1\n",
        "    for line in stations:\n",
        "        token = re.split('[ ]+',line)\n",
        "        distance = math.sqrt((float(token[1]) - lat)**2 + (float(token[2]) - lng)**2)\n",
        "        if min_distance < 0:\n",
        "            min_distance = distance\n",
        "        elif min_distance > distance:\n",
        "            min_distance = distance\n",
        "            min_name = token[0]\n",
        "    return min_name"
      ],
      "metadata": {
        "id": "co6rsUxEyNo0"
      },
      "execution_count": 21,
      "outputs": []
    },
    {
      "cell_type": "code",
      "source": [
        "# data processing\n",
        "def drop_out_NULL(df):\n",
        "    # value of -9999 indicates missing\n",
        "    return df.drop(df.loc[df['VALUE1']==-9999].index.values.astype(int))\n",
        "def drop_out_non_temperature(df):\n",
        "    # I'm only interested in temperature data\n",
        "    return df.loc[(df['ELEMENT']=='TMIN') | (df['ELEMENT']=='TMAX')]\n",
        "\n",
        "def get_fig(station_name, BIO):\n",
        "    baseURL = \"https://www.ncei.noaa.gov/pub/data/ghcn/daily/by_station/\"\n",
        "    filename = f\"{station_name}.csv.gz\"\n",
        "    outFilePath = f\"{station_name}.csv\"\n",
        "\n",
        "    r = requests.get(baseURL + filename)\n",
        "    compressedFile = BytesIO()\n",
        "    compressedFile.write(r.content)\n",
        "    compressedFile.seek(0)\n",
        "\n",
        "    decompressedFile = gzip.GzipFile(fileobj=compressedFile, mode='rb')\n",
        "\n",
        "    # with open(outFilePath, 'wb') as outfile:\n",
        "    #     outfile.write(decompressedFile.read())\n",
        "\n",
        "    buffer = StringIO()\n",
        "    buffer.write(\"ID,DATE,ELEMENT,VALUE1,MFLAG,QFLAG,SFLAG,VALUE2\\n\")\n",
        "    buffer.write(decompressedFile.read().decode(\"utf-8\"))\n",
        "    buffer.seek(0)\n",
        "    df = pd.read_csv(buffer)\n",
        "\n",
        "    flag = [0,0]\n",
        "    if len(df.loc[(df['ELEMENT']=='TMAX')]) > 0:\n",
        "        flag[0] = 1\n",
        "    if len(df.loc[(df['ELEMENT']=='TMIN')]) > 0:\n",
        "        flag[1] = 1\n",
        "    if flag[0] == 0 and flag[1] == 0:\n",
        "        return 0\n",
        "\n",
        "    df = drop_out_non_temperature(df)\n",
        "    df = drop_out_NULL(df)\n",
        "    df['VALUE1'] = df['VALUE1'].map(lambda x : x / 10) # values of temperature arein tenths of celsius\n",
        "    df['DATE'] = df['DATE'].map(lambda x : int(x / 10000)) # I'm only interested in yearly average\n",
        "    df = df[['DATE','ELEMENT','VALUE1']]\n",
        "    df = df.groupby(['ELEMENT','DATE']).mean()\n",
        "\n",
        "    # creating the graph\n",
        "    if flag[0] == 1:\n",
        "        plt.plot(df.loc['TMAX'].index,np.reshape(df.loc['TMAX'].values,\n",
        "            len(df.loc['TMAX'].values)),label=\"Yearly Average Max Temperature\")\n",
        "    if flag[1] == 1:\n",
        "        plt.plot(df.loc['TMIN'].index,np.reshape(df.loc['TMIN'].values,\n",
        "            len(df.loc['TMIN'].values)),label=\"Yearly Average Min Temperature\")\n",
        "    plt.ylabel(\"Temperature in Celsius\")\n",
        "    plt.xlabel(\"Year\")\n",
        "    plt.legend()\n",
        "    plt.savefig(BIO,format='jpg')\n",
        "\n",
        "    return 1"
      ],
      "metadata": {
        "id": "KwqtyiYAyrCR"
      },
      "execution_count": 43,
      "outputs": []
    },
    {
      "cell_type": "code",
      "source": [
        "from ipywidgets import Layout\n",
        "defaultLayout=Layout(width='1920px', height='1040px')\n",
        "\n",
        "m = Map(basemap=basemaps.OpenStreetMap.HOT, center=(37.0902, -95.7129), zoom=6, layout=defaultLayout)\n",
        "def handle_click(**kwargs):\n",
        "    if kwargs.get('type') == 'click':\n",
        "        img = BytesIO()\n",
        "        coord = kwargs.get('coordinates')\n",
        "        res = get_fig(get_station_name(coord[0], coord[1]), img)\n",
        "        \n",
        "        pic = HTML()\n",
        "        if res == 1:\n",
        "            img.seek(0)\n",
        "            encoded = base64.b64encode(img.read())\n",
        "            pic.value = '<img src=\"data:image/jpg;base64,{}\">'.format(encoded.decode('utf-8'))\n",
        "        else:\n",
        "            pic.value = '<b>There is no temperature data in the nearest station</b>'\n",
        "\n",
        "        popup = Popup(\n",
        "            location=coord,\n",
        "            child=pic,\n",
        "        )\n",
        "        m.add_layer(popup)\n",
        "\n",
        "m.on_interaction(handle_click)\n",
        "m"
      ],
      "metadata": {
        "id": "b7W24_4IzzFx",
        "outputId": "41d4306a-24fa-46cf-cf67-209e352b9ec9",
        "colab": {
          "base_uri": "https://localhost:8080/",
          "height": 1000,
          "referenced_widgets": [
            "383843a503324cf299850b97daedf82b",
            "c240cb451fbb43b39a1364186a2b1c08",
            "b83fa3a90bc3412ea82caca9348e7d1c",
            "d8fbd5c57df94ed6af7b4777eabf2f3f",
            "6be46631f19a4a4dbcdd2e6af6fda68e",
            "66927014fa05411dba088baa508fd151",
            "970835fa3d7444288d07ad4022c25f46",
            "a950d0983d024bfaa9eb1f76cc97262f",
            "e3b6df7d07d445e995267392f75d9d34",
            "076c662862e341768f5a3e1a9b2e0fed",
            "ea41798ed7274cae8cfdd520fb8237a4",
            "77ff7ef565344157a16de038bf26945e"
          ]
        }
      },
      "execution_count": 44,
      "outputs": [
        {
          "output_type": "display_data",
          "data": {
            "text/plain": [
              "Map(center=[37.0902, -95.7129], controls=(ZoomControl(options=['position', 'zoom_in_text', 'zoom_in_title', 'z…"
            ],
            "application/vnd.jupyter.widget-view+json": {
              "version_major": 2,
              "version_minor": 0,
              "model_id": "383843a503324cf299850b97daedf82b"
            }
          },
          "metadata": {
            "application/vnd.jupyter.widget-view+json": {
              "colab": {
                "custom_widget_manager": {
                  "url": "https://ssl.gstatic.com/colaboratory-static/widgets/colab-cdn-widget-manager/b3e629b1971e1542/manager.min.js"
                }
              }
            }
          }
        },
        {
          "output_type": "stream",
          "name": "stderr",
          "text": [
            "<ipython-input-43-969851f78bb8>:28: DtypeWarning: Columns (5) have mixed types. Specify dtype option on import or set low_memory=False.\n",
            "  df = pd.read_csv(buffer)\n"
          ]
        },
        {
          "output_type": "display_data",
          "data": {
            "text/plain": [
              "<Figure size 640x480 with 1 Axes>"
            ],
            "image/png": "[encoded data removed]"
          },
          "metadata": {}
        }
      ]
    },
    {
      "cell_type": "code",
      "source": [],
      "metadata": {
        "id": "HPfoOuaElvu6"
      },
      "execution_count": null,
      "outputs": []
    }
  ],
  "metadata": {
    "colab": {
      "name": "Welcome To Colaboratory",
      "provenance": [],
      "include_colab_link": true
    },
    "kernelspec": {
      "display_name": "Python 3",
      "name": "python3"
    },
    "widgets": {
      "application/vnd.jupyter.widget-state+json": {
        "383843a503324cf299850b97daedf82b": {
          "model_module": "jupyter-leaflet",
          "model_name": "LeafletMapModel",
          "model_module_version": "^0.17",
          "state": {
            "_dom_classes": [],
            "_model_module": "jupyter-leaflet",
            "_model_module_version": "^0.17",
            "_model_name": "LeafletMapModel",
            "_view_count": null,
            "_view_module": "jupyter-leaflet",
            "_view_module_version": "^0.17",
            "_view_name": "LeafletMapView",
            "bottom": 6683,
            "bounce_at_zoom_limits": true,
            "box_zoom": true,
            "center": [
              40.66397287638688,
              -95.4931640625
            ],
            "close_popup_on_click": true,
            "controls": [
              "IPY_MODEL_c240cb451fbb43b39a1364186a2b1c08",
              "IPY_MODEL_b83fa3a90bc3412ea82caca9348e7d1c"
            ],
            "crs": {
              "name": "EPSG3857",
              "custom": false
            },
            "default_style": "IPY_MODEL_d8fbd5c57df94ed6af7b4777eabf2f3f",
            "double_click_zoom": true,
            "dragging": true,
            "dragging_style": "IPY_MODEL_6be46631f19a4a4dbcdd2e6af6fda68e",
            "east": -74.39941406250001,
            "fullscreen": false,
            "inertia": true,
            "inertia_deceleration": 3000,
            "inertia_max_speed": 1500,
            "interpolation": "bilinear",
            "keyboard": true,
            "keyboard_pan_offset": 80,
            "keyboard_zoom_offset": 1,
            "layers": [
              "IPY_MODEL_66927014fa05411dba088baa508fd151",
              "IPY_MODEL_77ff7ef565344157a16de038bf26945e"
            ],
            "layout": "IPY_MODEL_970835fa3d7444288d07ad4022c25f46",
            "left": 2886,
            "max_zoom": null,
            "min_zoom": null,
            "modisdate": "2023-06-06",
            "north": 48.76343113791796,
            "options": [
              "bounce_at_zoom_limits",
              "box_zoom",
              "center",
              "close_popup_on_click",
              "double_click_zoom",
              "dragging",
              "fullscreen",
              "inertia",
              "inertia_deceleration",
              "inertia_max_speed",
              "interpolation",
              "keyboard",
              "keyboard_pan_offset",
              "keyboard_zoom_offset",
              "max_zoom",
              "min_zoom",
              "prefer_canvas",
              "scroll_wheel_zoom",
              "tap",
              "tap_tolerance",
              "touch_zoom",
              "world_copy_jump",
              "zoom",
              "zoom_animation_threshold",
              "zoom_delta",
              "zoom_snap"
            ],
            "panes": {},
            "prefer_canvas": false,
            "right": 4806,
            "scroll_wheel_zoom": false,
            "south": 31.44741029142872,
            "style": "IPY_MODEL_d8fbd5c57df94ed6af7b4777eabf2f3f",
            "tap": true,
            "tap_tolerance": 15,
            "top": 5643,
            "touch_zoom": true,
            "west": -116.58691406250001,
            "window_url": "https://glzg052sbl-496ff2e9c6d22116-0-colab.googleusercontent.com/outputframe.html?vrz=colab-20230605-060204-RC01_537888998",
            "world_copy_jump": false,
            "zoom": 6,
            "zoom_animation_threshold": 4,
            "zoom_delta": 1,
            "zoom_snap": 1
          }
        },
        "c240cb451fbb43b39a1364186a2b1c08": {
          "model_module": "jupyter-leaflet",
          "model_name": "LeafletZoomControlModel",
          "model_module_version": "^0.17",
          "state": {
            "_model_module": "jupyter-leaflet",
            "_model_module_version": "^0.17",
            "_model_name": "LeafletZoomControlModel",
            "_view_count": null,
            "_view_module": "jupyter-leaflet",
            "_view_module_version": "^0.17",
            "_view_name": "LeafletZoomControlView",
            "options": [
              "position",
              "zoom_in_text",
              "zoom_in_title",
              "zoom_out_text",
              "zoom_out_title"
            ],
            "position": "topleft",
            "zoom_in_text": "+",
            "zoom_in_title": "Zoom in",
            "zoom_out_text": "-",
            "zoom_out_title": "Zoom out"
          }
        },
        "b83fa3a90bc3412ea82caca9348e7d1c": {
          "model_module": "jupyter-leaflet",
          "model_name": "LeafletAttributionControlModel",
          "model_module_version": "^0.17",
          "state": {
            "_model_module": "jupyter-leaflet",
            "_model_module_version": "^0.17",
            "_model_name": "LeafletAttributionControlModel",
            "_view_count": null,
            "_view_module": "jupyter-leaflet",
            "_view_module_version": "^0.17",
            "_view_name": "LeafletAttributionControlView",
            "options": [
              "position",
              "prefix"
            ],
            "position": "bottomright",
            "prefix": "ipyleaflet"
          }
        },
        "d8fbd5c57df94ed6af7b4777eabf2f3f": {
          "model_module": "jupyter-leaflet",
          "model_name": "LeafletMapStyleModel",
          "model_module_version": "^0.17",
          "state": {
            "_model_module": "jupyter-leaflet",
            "_model_module_version": "^0.17",
            "_model_name": "LeafletMapStyleModel",
            "_view_count": null,
            "_view_module": "@jupyter-widgets/base",
            "_view_module_version": "1.2.0",
            "_view_name": "StyleView",
            "cursor": "grab"
          }
        },
        "6be46631f19a4a4dbcdd2e6af6fda68e": {
          "model_module": "jupyter-leaflet",
          "model_name": "LeafletMapStyleModel",
          "model_module_version": "^0.17",
          "state": {
            "_model_module": "jupyter-leaflet",
            "_model_module_version": "^0.17",
            "_model_name": "LeafletMapStyleModel",
            "_view_count": null,
            "_view_module": "@jupyter-widgets/base",
            "_view_module_version": "1.2.0",
            "_view_name": "StyleView",
            "cursor": "move"
          }
        },
        "66927014fa05411dba088baa508fd151": {
          "model_module": "jupyter-leaflet",
          "model_name": "LeafletTileLayerModel",
          "model_module_version": "^0.17",
          "state": {
            "_model_module": "jupyter-leaflet",
            "_model_module_version": "^0.17",
            "_model_name": "LeafletTileLayerModel",
            "_view_count": null,
            "_view_module": "jupyter-leaflet",
            "_view_module_version": "^0.17",
            "_view_name": "LeafletTileLayerView",
            "attribution": "&copy; <a href=\"https://www.openstreetmap.org/copyright\">OpenStreetMap</a> contributors, Tiles style by <a href=\"https://www.hotosm.org/\" target=\"_blank\">Humanitarian OpenStreetMap Team</a> hosted by <a href=\"https://openstreetmap.fr/\" target=\"_blank\">OpenStreetMap France</a>",
            "base": true,
            "bottom": true,
            "bounds": null,
            "detect_retina": false,
            "loading": false,
            "max_native_zoom": null,
            "max_zoom": 19,
            "min_native_zoom": null,
            "min_zoom": 1,
            "name": "OpenStreetMap.HOT",
            "no_wrap": false,
            "opacity": 1,
            "options": [
              "attribution",
              "bounds",
              "detect_retina",
              "max_native_zoom",
              "max_zoom",
              "min_native_zoom",
              "min_zoom",
              "no_wrap",
              "tile_size",
              "tms",
              "zoom_offset"
            ],
            "pane": "",
            "popup": null,
            "popup_max_height": null,
            "popup_max_width": 300,
            "popup_min_width": 50,
            "show_loading": false,
            "subitems": [],
            "tile_size": 256,
            "tms": false,
            "url": "https://a.tile.openstreetmap.fr/hot/{z}/{x}/{y}.png",
            "visible": true,
            "zoom_offset": 0
          }
        },
        "970835fa3d7444288d07ad4022c25f46": {
          "model_module": "@jupyter-widgets/base",
          "model_name": "LayoutModel",
          "model_module_version": "1.2.0",
          "state": {
            "_model_module": "@jupyter-widgets/base",
            "_model_module_version": "1.2.0",
            "_model_name": "LayoutModel",
            "_view_count": null,
            "_view_module": "@jupyter-widgets/base",
            "_view_module_version": "1.2.0",
            "_view_name": "LayoutView",
            "align_content": null,
            "align_items": null,
            "align_self": null,
            "border": null,
            "bottom": null,
            "display": null,
            "flex": null,
            "flex_flow": null,
            "grid_area": null,
            "grid_auto_columns": null,
            "grid_auto_flow": null,
            "grid_auto_rows": null,
            "grid_column": null,
            "grid_gap": null,
            "grid_row": null,
            "grid_template_areas": null,
            "grid_template_columns": null,
            "grid_template_rows": null,
            "height": "1040px",
            "justify_content": null,
            "justify_items": null,
            "left": null,
            "margin": null,
            "max_height": null,
            "max_width": null,
            "min_height": null,
            "min_width": null,
            "object_fit": null,
            "object_position": null,
            "order": null,
            "overflow": null,
            "overflow_x": null,
            "overflow_y": null,
            "padding": null,
            "right": null,
            "top": null,
            "visibility": null,
            "width": "1920px"
          }
        },
        "a950d0983d024bfaa9eb1f76cc97262f": {
          "model_module": "jupyter-leaflet",
          "model_name": "LeafletMapStyleModel",
          "model_module_version": "^0.17",
          "state": {
            "_model_module": "jupyter-leaflet",
            "_model_module_version": "^0.17",
            "_model_name": "LeafletMapStyleModel",
            "_view_count": null,
            "_view_module": "@jupyter-widgets/base",
            "_view_module_version": "1.2.0",
            "_view_name": "StyleView",
            "cursor": "grab"
          }
        },
        "e3b6df7d07d445e995267392f75d9d34": {
          "model_module": "@jupyter-widgets/base",
          "model_name": "LayoutModel",
          "model_module_version": "1.2.0",
          "state": {
            "_model_module": "@jupyter-widgets/base",
            "_model_module_version": "1.2.0",
            "_model_name": "LayoutModel",
            "_view_count": null,
            "_view_module": "@jupyter-widgets/base",
            "_view_module_version": "1.2.0",
            "_view_name": "LayoutView",
            "align_content": null,
            "align_items": null,
            "align_self": null,
            "border": null,
            "bottom": null,
            "display": null,
            "flex": null,
            "flex_flow": null,
            "grid_area": null,
            "grid_auto_columns": null,
            "grid_auto_flow": null,
            "grid_auto_rows": null,
            "grid_column": null,
            "grid_gap": null,
            "grid_row": null,
            "grid_template_areas": null,
            "grid_template_columns": null,
            "grid_template_rows": null,
            "height": null,
            "justify_content": null,
            "justify_items": null,
            "left": null,
            "margin": null,
            "max_height": null,
            "max_width": null,
            "min_height": null,
            "min_width": null,
            "object_fit": null,
            "object_position": null,
            "order": null,
            "overflow": null,
            "overflow_x": null,
            "overflow_y": null,
            "padding": null,
            "right": null,
            "top": null,
            "visibility": null,
            "width": null
          }
        },
        "076c662862e341768f5a3e1a9b2e0fed": {
          "model_module": "@jupyter-widgets/controls",
          "model_name": "DescriptionStyleModel",
          "model_module_version": "1.5.0",
          "state": {
            "_model_module": "@jupyter-widgets/controls",
            "_model_module_version": "1.5.0",
            "_model_name": "DescriptionStyleModel",
            "_view_count": null,
            "_view_module": "@jupyter-widgets/base",
            "_view_module_version": "1.2.0",
            "_view_name": "StyleView",
            "description_width": ""
          }
        },
        "ea41798ed7274cae8cfdd520fb8237a4": {
          "model_module": "@jupyter-widgets/controls",
          "model_name": "HTMLModel",
          "model_module_version": "1.5.0",
          "state": {
            "_dom_classes": [],
            "_model_module": "@jupyter-widgets/controls",
            "_model_module_version": "1.5.0",
            "_model_name": "HTMLModel",
            "_view_count": null,
            "_view_module": "@jupyter-widgets/controls",
            "_view_module_version": "1.5.0",
            "_view_name": "HTMLView",
            "description": "",
            "description_tooltip": null,
            "layout": "IPY_MODEL_e3b6df7d07d445e995267392f75d9d34",
            "placeholder": "​",
            "style": "IPY_MODEL_076c662862e341768f5a3e1a9b2e0fed",
            "value": "<img src=\"data:image/jpg;base64,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\">"
          }
        },
        "77ff7ef565344157a16de038bf26945e": {
          "model_module": "jupyter-leaflet",
          "model_name": "LeafletPopupModel",
          "model_module_version": "^0.17",
          "state": {
            "_model_module": "jupyter-leaflet",
            "_model_module_version": "^0.17",
            "_model_name": "LeafletPopupModel",
            "_view_count": null,
            "_view_module": "jupyter-leaflet",
            "_view_module_version": "^0.17",
            "_view_name": "LeafletPopupView",
            "auto_close": true,
            "auto_pan": true,
            "auto_pan_padding": [
              5,
              5
            ],
            "auto_pan_padding_bottom_right": null,
            "auto_pan_padding_top_left": null,
            "base": false,
            "bottom": false,
            "child": "IPY_MODEL_ea41798ed7274cae8cfdd520fb8237a4",
            "close_button": true,
            "close_on_escape_key": true,
            "keep_in_view": false,
            "location": [
              35.137879119634185,
              -110.76416015625001
            ],
            "max_height": null,
            "max_width": 300,
            "min_width": 50,
            "name": "",
            "options": [
              "auto_close",
              "auto_pan",
              "auto_pan_padding",
              "auto_pan_padding_bottom_right",
              "auto_pan_padding_top_left",
              "close_button",
              "close_on_escape_key",
              "keep_in_view",
              "max_height",
              "max_width",
              "min_width"
            ],
            "pane": "",
            "popup": null,
            "popup_max_height": null,
            "popup_max_width": 300,
            "popup_min_width": 50,
            "subitems": []
          }
        }
      }
    }
  },
  "nbformat": 4,
  "nbformat_minor": 0
}