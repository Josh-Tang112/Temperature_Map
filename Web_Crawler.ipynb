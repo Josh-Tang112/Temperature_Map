{
  "cells": [
    {
      "cell_type": "markdown",
      "metadata": {
        "id": "view-in-github",
        "colab_type": "text"
      },
      "source": [
        "<a href=\"https://colab.research.google.com/github/Josh-Tang112/Web_Crawler/blob/main/Web_Crawler.ipynb\" target=\"_parent\"><img src=\"https://colab.research.google.com/assets/colab-badge.svg\" alt=\"Open In Colab\"/></a>"
      ]
    },
    {
      "cell_type": "code",
      "source": [
        "! pip install beautifulsoup4"
      ],
      "metadata": {
        "id": "umubNHfOvoPq",
        "outputId": "f70beccd-2356-427b-df38-e66d3ea18178",
        "colab": {
          "base_uri": "https://localhost:8080/"
        }
      },
      "execution_count": 1,
      "outputs": [
        {
          "output_type": "stream",
          "name": "stdout",
          "text": [
            "Looking in indexes: https://pypi.org/simple, https://us-python.pkg.dev/colab-wheels/public/simple/\n",
            "Requirement already satisfied: beautifulsoup4 in /usr/local/lib/python3.10/dist-packages (4.11.2)\n",
            "Requirement already satisfied: soupsieve>1.2 in /usr/local/lib/python3.10/dist-packages (from beautifulsoup4) (2.4.1)\n"
          ]
        }
      ]
    },
    {
      "cell_type": "code",
      "source": [
        "!pip install lxml"
      ],
      "metadata": {
        "id": "O4lIeiyTx-QU",
        "outputId": "b65bc0a4-a49a-4802-c4a1-7c48df6070cc",
        "colab": {
          "base_uri": "https://localhost:8080/"
        }
      },
      "execution_count": 5,
      "outputs": [
        {
          "output_type": "stream",
          "name": "stdout",
          "text": [
            "Looking in indexes: https://pypi.org/simple, https://us-python.pkg.dev/colab-wheels/public/simple/\n",
            "Requirement already satisfied: lxml in /usr/local/lib/python3.10/dist-packages (4.9.2)\n"
          ]
        }
      ]
    },
    {
      "cell_type": "code",
      "source": [
        "from urllib.request import urlopen\n",
        "from urllib.error import HTTPError, URLError\n",
        "from urllib.request import urlopen\n",
        "from bs4 import BeautifulSoup\n",
        "from http import HTTPStatus"
      ],
      "metadata": {
        "id": "gisOy6ylvrWm"
      },
      "execution_count": 23,
      "outputs": []
    },
    {
      "cell_type": "code",
      "source": [
        "# read the url and return a beautifulsoup object\n",
        "def open_url(url):\n",
        "  try:\n",
        "    html = urlopen(url)\n",
        "  except HTTPError as e:\n",
        "    print(\"HTTP error {} {}, {}\".format(e.code, HTTPStatus(e.code).phrase, HTTPStatus(e.code).description))\n",
        "    return None\n",
        "  except URLError as e:\n",
        "    print('Server Not Found.')\n",
        "    return None\n",
        "  else:\n",
        "    return BeautifulSoup(html.read(), 'lxml')\n",
        "\n",
        "# check existence of tag in a beautifulsoup object, true if exist, false otherwise\n",
        "def check_tag_exist(bs, tag):\n",
        "  return True if bs(tag) is not None else False"
      ],
      "metadata": {
        "id": "xfr2pDTTvx9P"
      },
      "execution_count": 20,
      "outputs": []
    },
    {
      "cell_type": "code",
      "source": [
        "bs = open_url('https://www.pythonscraping.com/pages/page1.html')\n",
        "bs is None"
      ],
      "metadata": {
        "id": "co6rsUxEyNo0",
        "outputId": "0434cf83-a53c-41b0-fac7-360cfced3452",
        "colab": {
          "base_uri": "https://localhost:8080/"
        }
      },
      "execution_count": 22,
      "outputs": [
        {
          "output_type": "execute_result",
          "data": {
            "text/plain": [
              "False"
            ]
          },
          "metadata": {},
          "execution_count": 22
        }
      ]
    },
    {
      "cell_type": "code",
      "source": [
        "check_tag_exist(bs,'div')"
      ],
      "metadata": {
        "id": "KwqtyiYAyrCR",
        "outputId": "2020921e-487d-4e81-fd31-cb9941133695",
        "colab": {
          "base_uri": "https://localhost:8080/"
        }
      },
      "execution_count": 21,
      "outputs": [
        {
          "output_type": "execute_result",
          "data": {
            "text/plain": [
              "True"
            ]
          },
          "metadata": {},
          "execution_count": 21
        }
      ]
    },
    {
      "cell_type": "code",
      "source": [],
      "metadata": {
        "id": "b7W24_4IzzFx"
      },
      "execution_count": null,
      "outputs": []
    }
  ],
  "metadata": {
    "colab": {
      "name": "Welcome To Colaboratory",
      "toc_visible": true,
      "provenance": [],
      "include_colab_link": true
    },
    "kernelspec": {
      "display_name": "Python 3",
      "name": "python3"
    }
  },
  "nbformat": 4,
  "nbformat_minor": 0
}